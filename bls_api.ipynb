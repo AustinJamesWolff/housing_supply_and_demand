{
 "cells": [
  {
   "cell_type": "code",
   "execution_count": 127,
   "metadata": {},
   "outputs": [
    {
     "name": "stdout",
     "output_type": "stream",
     "text": [
      "BLS key: 0ae2fe4709cf455d9dd506bed612763a\n"
     ]
    }
   ],
   "source": [
    "# Import libraries\n",
    "\n",
    "import sys\n",
    "import re\n",
    "import requests\n",
    "import json\n",
    "import asyncio\n",
    "import nest_asyncio\n",
    "import aiohttp\n",
    "import time\n",
    "import warnings\n",
    "\n",
    "# Suppress unnecessary Shapely warning\n",
    "warnings.filterwarnings('ignore',\n",
    "                        '.*Shapely GEOS version.*')\n",
    "\n",
    "from datetime import datetime\n",
    "from aiohttp import ClientSession\n",
    "from requests import request, Session\n",
    "from itertools import product, repeat\n",
    "import os\n",
    "from dotenv import load_dotenv\n",
    "from os import getenv\n",
    "from threading import Thread\n",
    "import time\n",
    "import inspect\n",
    "import pandas as pd\n",
    "import geopandas as gp\n",
    "import shapely\n",
    "import pygeos\n",
    "from functools import reduce\n",
    "from pandas.plotting import lag_plot\n",
    "import pickle\n",
    "import numpy as np\n",
    "import seaborn as sns\n",
    "import datetime as dt\n",
    "import copy\n",
    "import math\n",
    "from decimal import Decimal\n",
    "import matplotlib.pyplot as plt\n",
    "import matplotlib.patches as mpatches\n",
    "import matplotlib.ticker as mticker\n",
    "from matplotlib.ticker import MaxNLocator\n",
    "import matplotlib.dates as mdates\n",
    "import matplotlib.gridspec as gridspec\n",
    "from matplotlib.gridspec import GridSpec\n",
    "from matplotlib.offsetbox import AnchoredText\n",
    "import matplotlib as mpl\n",
    "import plotly.express as px\n",
    "from sklearn.metrics import mean_absolute_error\n",
    "from multiprocess import Process, Pool\n",
    "\n",
    "# All helper functions are in this module:\n",
    "from helper_functions.census_functions import *\n",
    "\n",
    "# Set up Pandas defaults\n",
    "pd.options.display.float_format = '{:.2f}'.format\n",
    "pd.set_option(\"display.max_columns\", None)\n",
    "\n",
    "# Test getting BLS key\n",
    "load_dotenv()\n",
    "bls_key = os.environ[\"BLS_KEY\"]\n",
    "print(\"BLS key:\", bls_key)\n"
   ]
  },
  {
   "cell_type": "code",
   "execution_count": 118,
   "metadata": {},
   "outputs": [],
   "source": [
    "### Create helper functions\n",
    "\n",
    "# Define helper function to create directory\n",
    "def create_folder(the_path):\n",
    "    \"Create directory if nonexistent.\"\n",
    "    if not os.path.isdir(the_path):\n",
    "        os.mkdir(the_path)"
   ]
  },
  {
   "cell_type": "markdown",
   "metadata": {},
   "source": [
    "### Read in the most recent BLS data"
   ]
  },
  {
   "cell_type": "code",
   "execution_count": 140,
   "metadata": {},
   "outputs": [
    {
     "name": "stdout",
     "output_type": "stream",
     "text": [
      "To ensure you have the most recent data, run:\n",
      "\"python download_bls_data.py\" in your terminal.\n"
     ]
    }
   ],
   "source": [
    "print(\"\"\"To ensure you have the most recent data, run:\n",
    "\"python download_bls_data.py\" in your terminal.\"\"\")\n",
    "\n",
    "# Read in the most recent BLS data\n"
   ]
  },
  {
   "cell_type": "code",
   "execution_count": null,
   "metadata": {},
   "outputs": [],
   "source": []
  },
  {
   "cell_type": "code",
   "execution_count": null,
   "metadata": {},
   "outputs": [],
   "source": []
  },
  {
   "cell_type": "code",
   "execution_count": null,
   "metadata": {},
   "outputs": [],
   "source": []
  },
  {
   "cell_type": "code",
   "execution_count": null,
   "metadata": {},
   "outputs": [],
   "source": []
  },
  {
   "cell_type": "code",
   "execution_count": null,
   "metadata": {},
   "outputs": [],
   "source": []
  }
 ],
 "metadata": {
  "kernelspec": {
   "display_name": "housing_supply_and_demand",
   "language": "python",
   "name": "housing_supply_and_demand"
  },
  "language_info": {
   "codemirror_mode": {
    "name": "ipython",
    "version": 3
   },
   "file_extension": ".py",
   "mimetype": "text/x-python",
   "name": "python",
   "nbconvert_exporter": "python",
   "pygments_lexer": "ipython3",
   "version": "3.9.3"
  },
  "vscode": {
   "interpreter": {
    "hash": "aee8b7b246df8f9039afb4144a1f6fd8d2ca17a180786b69acc140d282b71a49"
   }
  }
 },
 "nbformat": 4,
 "nbformat_minor": 2
}
