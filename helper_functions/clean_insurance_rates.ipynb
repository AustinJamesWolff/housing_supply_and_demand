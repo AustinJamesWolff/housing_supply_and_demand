{
 "cells": [
  {
   "cell_type": "markdown",
   "id": "f6d018ba",
   "metadata": {},
   "source": [
    "## Clean insurance rates"
   ]
  },
  {
   "cell_type": "markdown",
   "id": "a1c237a1",
   "metadata": {},
   "source": [
    "The purpose of this notebook is to extract homeowners insurance data from a table from a website.\n",
    "\n",
    "I'll be extracting the data from this webpage: https://www.insurance.com/home-and-renters-insurance/home-insurance-basics/average-homeowners-insurance-rates-by-state, under the section marked \"Homeowners insurance on a $600k home\"."
   ]
  },
  {
   "cell_type": "code",
   "execution_count": 1,
   "id": "1c5f69cc",
   "metadata": {},
   "outputs": [],
   "source": [
    "import pandas as pd\n",
    "import numpy as np"
   ]
  },
  {
   "cell_type": "code",
   "execution_count": 2,
   "id": "995928aa",
   "metadata": {},
   "outputs": [
    {
     "data": {
      "text/plain": [
       "'\\n<thead><tr><th>State</th><th>Average rate</th><th>$ more or less than the national average ($4,677)</th><th>% difference from national average ($4,677)</th></tr></thead><tbody><tr><td>Alaska</td><td>$2,779</td><td>$1,898 less</td><td>41%</td></tr><tr><td>Alabama</td><td>$5,144</td><td>$467 more</td><td>10%</td></tr><tr><td>Arkansas</td><td>$6,099</td><td>$1,422 more</td><td>30%</td></tr><tr><td>Arizona</td><td>$4,086</td><td>$591 less</td><td>13%</td></tr><tr><td>California</td><td>$2,598</td><td>$2,079 less</td><td>44%</td></tr><tr><td>Colorado</td><td>$5,542</td><td>$865 more</td><td>18%</td></tr><tr><td>Connecticut</td><td>$3,641</td><td>$1,036 less</td><td>22%</td></tr><tr><td>Washington, D.C.</td><td>$2,384</td><td>$2,293 less</td><td>49%</td></tr><tr><td>Delaware</td><td>$2,474</td><td>$2,203 less</td><td>47%</td></tr><tr><td>Florida</td><td>$5,854</td><td>$1,177 more</td><td>25%</td></tr><tr><td>Georgia</td><td>$4,006</td><td>$671 less</td><td>14%</td></tr><tr><td>Hawaii</td><td>$1,154</td><td>$3,523 less</td><td>75%</td></tr><tr><td>Iowa</td><td>$4,388</td><td>$289 less</td><td>6%</td></tr><tr><td>Idaho</td><td>$3,427</td><td>$1,250 less</td><td>27%</td></tr><tr><td>Illinois</td><td>$4,390</td><td>$287 less</td><td>6%</td></tr><tr><td>Indiana</td><td>$4,451</td><td>$226 less</td><td>5%</td></tr><tr><td>Kansas</td><td>$6,798</td><td>$2,121 more</td><td>45%</td></tr><tr><td>Kentucky</td><td>$5,182</td><td>$505 more</td><td>11%</td></tr><tr><td>Louisiana</td><td>$5,277</td><td>$600 more</td><td>13%</td></tr><tr><td>Massachusetts</td><td>$2,746</td><td>$1,931 less</td><td>41%</td></tr><tr><td>Maryland</td><td>$3,028</td><td>$1,649 less</td><td>35%</td></tr><tr><td>Maine</td><td>$2,510</td><td>$2,167 less</td><td>46%</td></tr><tr><td>Michigan</td><td>$3,564</td><td>$1,113 less</td><td>24%</td></tr><tr><td>Minnesota</td><td>$4,308</td><td>$369 less</td><td>8%</td></tr><tr><td>Missouri</td><td>$4,956</td><td>$279 more</td><td>6%</td></tr><tr><td>Mississippi</td><td>$4,700</td><td>$23 more</td><td>0%</td></tr><tr><td>Montana</td><td>$4,271</td><td>$406 less</td><td>9%</td></tr><tr><td>North Carolina</td><td>$4,375</td><td>$302 less</td><td>6%</td></tr><tr><td>North Dakota</td><td>$4,682</td><td>$5 more</td><td>0%</td></tr><tr><td>Nebraska</td><td>$7,365</td><td>$2,688 more</td><td>57%</td></tr><tr><td>New Hampshire</td><td>$2,032</td><td>$2,645 less</td><td>57%</td></tr><tr><td>New Jersey</td><td>$2,619</td><td>$2,058 less</td><td>44%</td></tr><tr><td>New Mexico</td><td>$4,529</td><td>$148 less</td><td>3%</td></tr><tr><td>Nevada</td><td>$2,707</td><td>$1,970 less</td><td>42%</td></tr><tr><td>New York</td><td>$3,276</td><td>$1,401 less</td><td>30%</td></tr><tr><td>Ohio</td><td>$3,265</td><td>$1,412 less</td><td>30%</td></tr><tr><td>Oklahoma</td><td>$8,426</td><td>$3,749 more</td><td>80%</td></tr><tr><td>Oregon</td><td>$3,016</td><td>$1,661 less</td><td>36%</td></tr><tr><td>Pennsylvania</td><td>$2,902</td><td>$1,775 less</td><td>38%</td></tr><tr><td>Rhode Island</td><td>$3,327</td><td>$1,350 less</td><td>29%</td></tr><tr><td>South Carolina</td><td>$4,319</td><td>$358 less</td><td>8%</td></tr><tr><td>South Dakota</td><td>$5,353</td><td>$676 more</td><td>14%</td></tr><tr><td>Tennessee</td><td>$4,873</td><td>$196 more</td><td>4%</td></tr><tr><td>Texas</td><td>$5,602</td><td>$925 more</td><td>20%</td></tr><tr><td>Utah</td><td>$2,876</td><td>$1,801 less</td><td>39%</td></tr><tr><td>Virginia</td><td>$3,430</td><td>$1,247 less</td><td>27%</td></tr><tr><td>Vermont</td><td>$2,147</td><td>$2,530 less</td><td>54%</td></tr><tr><td>Washington</td><td>$2,801</td><td>$1,876 less</td><td>40%</td></tr><tr><td>Wisconsin</td><td>$2,711</td><td>$1,966 less</td><td>42%</td></tr><tr><td>West Virginia</td><td>$3,271</td><td>$1,406 less</td><td>30%</td></tr><tr><td>Wyoming</td><td>$3,703</td><td>$974 less</td><td>21%</td></tr>\\n'"
      ]
     },
     "execution_count": 2,
     "metadata": {},
     "output_type": "execute_result"
    }
   ],
   "source": [
    "# Read in the table's data via text:\n",
    "text = \"\"\"\n",
    "<thead><tr><th>State</th><th>Average rate</th><th>$ more or less than the national average ($4,677)</th><th>% difference from national average ($4,677)</th></tr></thead><tbody><tr><td>Alaska</td><td>$2,779</td><td>$1,898 less</td><td>41%</td></tr><tr><td>Alabama</td><td>$5,144</td><td>$467 more</td><td>10%</td></tr><tr><td>Arkansas</td><td>$6,099</td><td>$1,422 more</td><td>30%</td></tr><tr><td>Arizona</td><td>$4,086</td><td>$591 less</td><td>13%</td></tr><tr><td>California</td><td>$2,598</td><td>$2,079 less</td><td>44%</td></tr><tr><td>Colorado</td><td>$5,542</td><td>$865 more</td><td>18%</td></tr><tr><td>Connecticut</td><td>$3,641</td><td>$1,036 less</td><td>22%</td></tr><tr><td>Washington, D.C.</td><td>$2,384</td><td>$2,293 less</td><td>49%</td></tr><tr><td>Delaware</td><td>$2,474</td><td>$2,203 less</td><td>47%</td></tr><tr><td>Florida</td><td>$5,854</td><td>$1,177 more</td><td>25%</td></tr><tr><td>Georgia</td><td>$4,006</td><td>$671 less</td><td>14%</td></tr><tr><td>Hawaii</td><td>$1,154</td><td>$3,523 less</td><td>75%</td></tr><tr><td>Iowa</td><td>$4,388</td><td>$289 less</td><td>6%</td></tr><tr><td>Idaho</td><td>$3,427</td><td>$1,250 less</td><td>27%</td></tr><tr><td>Illinois</td><td>$4,390</td><td>$287 less</td><td>6%</td></tr><tr><td>Indiana</td><td>$4,451</td><td>$226 less</td><td>5%</td></tr><tr><td>Kansas</td><td>$6,798</td><td>$2,121 more</td><td>45%</td></tr><tr><td>Kentucky</td><td>$5,182</td><td>$505 more</td><td>11%</td></tr><tr><td>Louisiana</td><td>$5,277</td><td>$600 more</td><td>13%</td></tr><tr><td>Massachusetts</td><td>$2,746</td><td>$1,931 less</td><td>41%</td></tr><tr><td>Maryland</td><td>$3,028</td><td>$1,649 less</td><td>35%</td></tr><tr><td>Maine</td><td>$2,510</td><td>$2,167 less</td><td>46%</td></tr><tr><td>Michigan</td><td>$3,564</td><td>$1,113 less</td><td>24%</td></tr><tr><td>Minnesota</td><td>$4,308</td><td>$369 less</td><td>8%</td></tr><tr><td>Missouri</td><td>$4,956</td><td>$279 more</td><td>6%</td></tr><tr><td>Mississippi</td><td>$4,700</td><td>$23 more</td><td>0%</td></tr><tr><td>Montana</td><td>$4,271</td><td>$406 less</td><td>9%</td></tr><tr><td>North Carolina</td><td>$4,375</td><td>$302 less</td><td>6%</td></tr><tr><td>North Dakota</td><td>$4,682</td><td>$5 more</td><td>0%</td></tr><tr><td>Nebraska</td><td>$7,365</td><td>$2,688 more</td><td>57%</td></tr><tr><td>New Hampshire</td><td>$2,032</td><td>$2,645 less</td><td>57%</td></tr><tr><td>New Jersey</td><td>$2,619</td><td>$2,058 less</td><td>44%</td></tr><tr><td>New Mexico</td><td>$4,529</td><td>$148 less</td><td>3%</td></tr><tr><td>Nevada</td><td>$2,707</td><td>$1,970 less</td><td>42%</td></tr><tr><td>New York</td><td>$3,276</td><td>$1,401 less</td><td>30%</td></tr><tr><td>Ohio</td><td>$3,265</td><td>$1,412 less</td><td>30%</td></tr><tr><td>Oklahoma</td><td>$8,426</td><td>$3,749 more</td><td>80%</td></tr><tr><td>Oregon</td><td>$3,016</td><td>$1,661 less</td><td>36%</td></tr><tr><td>Pennsylvania</td><td>$2,902</td><td>$1,775 less</td><td>38%</td></tr><tr><td>Rhode Island</td><td>$3,327</td><td>$1,350 less</td><td>29%</td></tr><tr><td>South Carolina</td><td>$4,319</td><td>$358 less</td><td>8%</td></tr><tr><td>South Dakota</td><td>$5,353</td><td>$676 more</td><td>14%</td></tr><tr><td>Tennessee</td><td>$4,873</td><td>$196 more</td><td>4%</td></tr><tr><td>Texas</td><td>$5,602</td><td>$925 more</td><td>20%</td></tr><tr><td>Utah</td><td>$2,876</td><td>$1,801 less</td><td>39%</td></tr><tr><td>Virginia</td><td>$3,430</td><td>$1,247 less</td><td>27%</td></tr><tr><td>Vermont</td><td>$2,147</td><td>$2,530 less</td><td>54%</td></tr><tr><td>Washington</td><td>$2,801</td><td>$1,876 less</td><td>40%</td></tr><tr><td>Wisconsin</td><td>$2,711</td><td>$1,966 less</td><td>42%</td></tr><tr><td>West Virginia</td><td>$3,271</td><td>$1,406 less</td><td>30%</td></tr><tr><td>Wyoming</td><td>$3,703</td><td>$974 less</td><td>21%</td></tr>\n",
    "\"\"\"\n",
    "text"
   ]
  },
  {
   "cell_type": "code",
   "execution_count": 3,
   "id": "eac33c0e",
   "metadata": {},
   "outputs": [],
   "source": [
    "# Create lists to add data into\n",
    "state_list = []\n",
    "avg_rate = []\n",
    "\n",
    "# Start cleaning the text\n",
    "cleaned_text = text.strip(\"\\n\")\n",
    "cleaned_text = cleaned_text.split('<tbody>')[1]\n",
    "cleaned_text = cleaned_text.split('</tr>')\n",
    "\n",
    "for i in range(len(cleaned_text)):\n",
    "    cleaned_text[i] = cleaned_text[i].split('</td>')\n",
    "    if len(cleaned_text[i][0]) > 0:\n",
    "        state_list.append(cleaned_text[i][0].strip('<tr><td>'))\n",
    "        avg_rate.append(float(cleaned_text[i][1].strip('<td>$').replace(\",\",'')))\n",
    "    "
   ]
  },
  {
   "cell_type": "code",
   "execution_count": 5,
   "id": "cd69387e",
   "metadata": {},
   "outputs": [
    {
     "data": {
      "text/html": [
       "<div>\n",
       "<style scoped>\n",
       "    .dataframe tbody tr th:only-of-type {\n",
       "        vertical-align: middle;\n",
       "    }\n",
       "\n",
       "    .dataframe tbody tr th {\n",
       "        vertical-align: top;\n",
       "    }\n",
       "\n",
       "    .dataframe thead th {\n",
       "        text-align: right;\n",
       "    }\n",
       "</style>\n",
       "<table border=\"1\" class=\"dataframe\">\n",
       "  <thead>\n",
       "    <tr style=\"text-align: right;\">\n",
       "      <th></th>\n",
       "      <th>state</th>\n",
       "      <th>avg_insurance</th>\n",
       "    </tr>\n",
       "  </thead>\n",
       "  <tbody>\n",
       "    <tr>\n",
       "      <th>0</th>\n",
       "      <td>AL</td>\n",
       "      <td>5144.0</td>\n",
       "    </tr>\n",
       "    <tr>\n",
       "      <th>1</th>\n",
       "      <td>AK</td>\n",
       "      <td>2779.0</td>\n",
       "    </tr>\n",
       "    <tr>\n",
       "      <th>2</th>\n",
       "      <td>AZ</td>\n",
       "      <td>4086.0</td>\n",
       "    </tr>\n",
       "    <tr>\n",
       "      <th>3</th>\n",
       "      <td>AR</td>\n",
       "      <td>6099.0</td>\n",
       "    </tr>\n",
       "    <tr>\n",
       "      <th>4</th>\n",
       "      <td>CA</td>\n",
       "      <td>2598.0</td>\n",
       "    </tr>\n",
       "  </tbody>\n",
       "</table>\n",
       "</div>"
      ],
      "text/plain": [
       "  state  avg_insurance\n",
       "0    AL         5144.0\n",
       "1    AK         2779.0\n",
       "2    AZ         4086.0\n",
       "3    AR         6099.0\n",
       "4    CA         2598.0"
      ]
     },
     "execution_count": 5,
     "metadata": {},
     "output_type": "execute_result"
    }
   ],
   "source": [
    "# Turn lists into a dataframe\n",
    "insurance = pd.DataFrame(\n",
    "    {\n",
    "        'state':state_list,\n",
    "        'avg_insurance':avg_rate\n",
    "    }\n",
    ")\n",
    "\n",
    "# Read in the state abbreviations and merge\n",
    "state_abbr = pd.read_csv('../datasets/helper_datasets/states_abbr.csv')\n",
    "state_abbr = state_abbr.rename(columns={'State':'state'})\n",
    "insurance = state_abbr.merge(insurance, on='state')\n",
    "\n",
    "# Clean column names\n",
    "insurance = insurance.drop(columns=['state'])\n",
    "insurance.rename(columns={'Abbreviation':'state'}, inplace=True)\n",
    "\n",
    "# Save to csv\n",
    "insurance.to_csv('../datasets/helper_datasets/state_avg_insurance.csv', index=False)\n",
    "\n",
    "insurance.head(5)"
   ]
  },
  {
   "cell_type": "code",
   "execution_count": null,
   "id": "acc3e769",
   "metadata": {},
   "outputs": [],
   "source": []
  },
  {
   "cell_type": "code",
   "execution_count": null,
   "id": "6538e2e4",
   "metadata": {},
   "outputs": [],
   "source": []
  },
  {
   "cell_type": "code",
   "execution_count": null,
   "id": "0530d64a",
   "metadata": {},
   "outputs": [],
   "source": []
  }
 ],
 "metadata": {
  "kernelspec": {
   "display_name": "Python 3 (ipykernel)",
   "language": "python",
   "name": "python3"
  },
  "language_info": {
   "codemirror_mode": {
    "name": "ipython",
    "version": 3
   },
   "file_extension": ".py",
   "mimetype": "text/x-python",
   "name": "python",
   "nbconvert_exporter": "python",
   "pygments_lexer": "ipython3",
   "version": "3.9.3"
  }
 },
 "nbformat": 4,
 "nbformat_minor": 5
}
