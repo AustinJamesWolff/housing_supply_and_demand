{
 "cells": [
  {
   "cell_type": "code",
   "execution_count": 25,
   "id": "bd7cbd68",
   "metadata": {},
   "outputs": [],
   "source": [
    "# Import libraries\n",
    "import pandas as pd\n",
    "import numpy as np\n",
    "\n",
    "# Import custom helper functions\n",
    "from msa_zip_cleaning import *"
   ]
  },
  {
   "cell_type": "code",
   "execution_count": 50,
   "id": "ab29366d",
   "metadata": {},
   "outputs": [
    {
     "data": {
      "text/html": [
       "<div>\n",
       "<style scoped>\n",
       "    .dataframe tbody tr th:only-of-type {\n",
       "        vertical-align: middle;\n",
       "    }\n",
       "\n",
       "    .dataframe tbody tr th {\n",
       "        vertical-align: top;\n",
       "    }\n",
       "\n",
       "    .dataframe thead th {\n",
       "        text-align: right;\n",
       "    }\n",
       "</style>\n",
       "<table border=\"1\" class=\"dataframe\">\n",
       "  <thead>\n",
       "    <tr style=\"text-align: right;\">\n",
       "      <th></th>\n",
       "      <th>RegionID</th>\n",
       "      <th>SizeRank</th>\n",
       "      <th>zipcode</th>\n",
       "      <th>RegionType</th>\n",
       "      <th>StateName</th>\n",
       "      <th>State</th>\n",
       "      <th>City</th>\n",
       "      <th>msa_name</th>\n",
       "      <th>CountyName</th>\n",
       "      <th>2000-01-31</th>\n",
       "      <th>...</th>\n",
       "      <th>2023-08-31</th>\n",
       "      <th>2023-09-30</th>\n",
       "      <th>2023-10-31</th>\n",
       "      <th>2023-11-30</th>\n",
       "      <th>2023-12-31</th>\n",
       "      <th>2024-01-31</th>\n",
       "      <th>2024-02-29</th>\n",
       "      <th>2024-03-31</th>\n",
       "      <th>state</th>\n",
       "      <th>city</th>\n",
       "    </tr>\n",
       "  </thead>\n",
       "  <tbody>\n",
       "    <tr>\n",
       "      <th>0</th>\n",
       "      <td>91982</td>\n",
       "      <td>1</td>\n",
       "      <td>77494</td>\n",
       "      <td>zip</td>\n",
       "      <td>TX</td>\n",
       "      <td>TX</td>\n",
       "      <td>Katy</td>\n",
       "      <td>Houston, TX</td>\n",
       "      <td>Fort Bend County</td>\n",
       "      <td>211762.078497</td>\n",
       "      <td>...</td>\n",
       "      <td>486839.034009</td>\n",
       "      <td>488672.706004</td>\n",
       "      <td>489922.034733</td>\n",
       "      <td>490617.836202</td>\n",
       "      <td>491236.726086</td>\n",
       "      <td>492622.821494</td>\n",
       "      <td>494800.990956</td>\n",
       "      <td>497633.682304</td>\n",
       "      <td>TX</td>\n",
       "      <td>Houston</td>\n",
       "    </tr>\n",
       "  </tbody>\n",
       "</table>\n",
       "<p>1 rows × 302 columns</p>\n",
       "</div>"
      ],
      "text/plain": [
       "   RegionID  SizeRank zipcode RegionType StateName State  City     msa_name  \\\n",
       "0     91982         1   77494        zip        TX    TX  Katy  Houston, TX   \n",
       "\n",
       "         CountyName     2000-01-31  ...     2023-08-31     2023-09-30  \\\n",
       "0  Fort Bend County  211762.078497  ...  486839.034009  488672.706004   \n",
       "\n",
       "      2023-10-31     2023-11-30     2023-12-31     2024-01-31     2024-02-29  \\\n",
       "0  489922.034733  490617.836202  491236.726086  492622.821494  494800.990956   \n",
       "\n",
       "      2024-03-31  state     city  \n",
       "0  497633.682304     TX  Houston  \n",
       "\n",
       "[1 rows x 302 columns]"
      ]
     },
     "execution_count": 50,
     "metadata": {},
     "output_type": "execute_result"
    }
   ],
   "source": [
    "# Read in Zillow zip rent and zip price and see\n",
    "# if all zip codes have data in both\n",
    "\n",
    "zip_price = pd.read_csv(\n",
    "    '../datasets/zillow/zillow_median_price/Zip_zhvi_uc_sfrcondo_tier_0.33_0.67_sm_sa_month.csv',\n",
    "    dtype={'RegionName':str}\n",
    "                       )\n",
    "# Rename column\n",
    "zip_price.rename(columns={\n",
    "    'Metro':'msa_name',\n",
    "    'RegionName':'zipcode'\n",
    "}, inplace=True)\n",
    "\n",
    "# They do not. We will use the zip_price dataset's zip codes.\n",
    "# Just get all zip codes.\n",
    "\n",
    "# Clean Metro name\n",
    "zip_price_cleaned = clean_BLS_msa_names(zip_price)\n",
    "\n",
    "# Remove all zip codes not within a metro\n",
    "zip_price_cleaned = zip_price_cleaned[zip_price_cleaned['msa_name'].notna()].reset_index(drop=True)\n",
    "\n",
    "zip_price_cleaned.head(1)\n",
    "\n"
   ]
  },
  {
   "cell_type": "code",
   "execution_count": 53,
   "id": "031b35f2",
   "metadata": {},
   "outputs": [
    {
     "data": {
      "text/plain": [
       "926"
      ]
     },
     "execution_count": 53,
     "metadata": {},
     "output_type": "execute_result"
    }
   ],
   "source": [
    "zip_price_cleaned['msa_name'].nunique()"
   ]
  },
  {
   "cell_type": "code",
   "execution_count": 57,
   "id": "e4f0f085",
   "metadata": {},
   "outputs": [
    {
     "data": {
      "text/html": [
       "<div>\n",
       "<style scoped>\n",
       "    .dataframe tbody tr th:only-of-type {\n",
       "        vertical-align: middle;\n",
       "    }\n",
       "\n",
       "    .dataframe tbody tr th {\n",
       "        vertical-align: top;\n",
       "    }\n",
       "\n",
       "    .dataframe thead th {\n",
       "        text-align: right;\n",
       "    }\n",
       "</style>\n",
       "<table border=\"1\" class=\"dataframe\">\n",
       "  <thead>\n",
       "    <tr style=\"text-align: right;\">\n",
       "      <th></th>\n",
       "      <th>msa_name</th>\n",
       "    </tr>\n",
       "  </thead>\n",
       "  <tbody>\n",
       "    <tr>\n",
       "      <th>0</th>\n",
       "      <td>Abilene, TX</td>\n",
       "    </tr>\n",
       "    <tr>\n",
       "      <th>1</th>\n",
       "      <td>Aguadilla, PR</td>\n",
       "    </tr>\n",
       "    <tr>\n",
       "      <th>2</th>\n",
       "      <td>Akron, OH</td>\n",
       "    </tr>\n",
       "    <tr>\n",
       "      <th>3</th>\n",
       "      <td>Albany, GA</td>\n",
       "    </tr>\n",
       "    <tr>\n",
       "      <th>4</th>\n",
       "      <td>Albany, OR</td>\n",
       "    </tr>\n",
       "    <tr>\n",
       "      <th>...</th>\n",
       "      <td>...</td>\n",
       "    </tr>\n",
       "    <tr>\n",
       "      <th>385</th>\n",
       "      <td>Yakima, WA</td>\n",
       "    </tr>\n",
       "    <tr>\n",
       "      <th>386</th>\n",
       "      <td>York, PA</td>\n",
       "    </tr>\n",
       "    <tr>\n",
       "      <th>387</th>\n",
       "      <td>Youngstown, OH</td>\n",
       "    </tr>\n",
       "    <tr>\n",
       "      <th>388</th>\n",
       "      <td>Yuba City, CA</td>\n",
       "    </tr>\n",
       "    <tr>\n",
       "      <th>389</th>\n",
       "      <td>Yuma, AZ</td>\n",
       "    </tr>\n",
       "  </tbody>\n",
       "</table>\n",
       "<p>390 rows × 1 columns</p>\n",
       "</div>"
      ],
      "text/plain": [
       "           msa_name\n",
       "0       Abilene, TX\n",
       "1     Aguadilla, PR\n",
       "2         Akron, OH\n",
       "3        Albany, GA\n",
       "4        Albany, OR\n",
       "..              ...\n",
       "385      Yakima, WA\n",
       "386        York, PA\n",
       "387  Youngstown, OH\n",
       "388   Yuba City, CA\n",
       "389        Yuma, AZ\n",
       "\n",
       "[390 rows x 1 columns]"
      ]
     },
     "execution_count": 57,
     "metadata": {},
     "output_type": "execute_result"
    }
   ],
   "source": [
    "# Read in BLS metro data\n",
    "bls = pd.read_csv('../datasets/bls/smoothed/most_recent_bls_covid_smoothed.csv')\n",
    "\n",
    "# Get only unique msa names\n",
    "bls_msa = bls[['msa_name']]\n",
    "bls_msa = bls_msa.drop_duplicates(ignore_index=True)\n",
    "\n",
    "bls_msa\n"
   ]
  },
  {
   "cell_type": "code",
   "execution_count": null,
   "id": "ebc52254",
   "metadata": {},
   "outputs": [],
   "source": [
    "# Read in latest zip code data\n",
    "\n",
    "# Read in latest msa data\n",
    "\n"
   ]
  },
  {
   "cell_type": "code",
   "execution_count": null,
   "id": "d85b07d5",
   "metadata": {},
   "outputs": [],
   "source": [
    "# Create a dictionary where the keys are the msa_names and the values are\n",
    "# a list of all the zip codes that are within the msa\n"
   ]
  },
  {
   "cell_type": "code",
   "execution_count": null,
   "id": "f2754637",
   "metadata": {},
   "outputs": [],
   "source": [
    "# Read in a shp file for zip codes\n",
    "\n",
    "# Read in a shp file for msas\n"
   ]
  },
  {
   "cell_type": "code",
   "execution_count": null,
   "id": "cc11c7b9",
   "metadata": {},
   "outputs": [],
   "source": [
    "# Loop through each MSA and find the zip codes that are within the msa boundary\n",
    "\n",
    "# Update the dictionary keys to add all zip codes within an msa\n",
    "\n"
   ]
  },
  {
   "cell_type": "code",
   "execution_count": 2,
   "id": "eb016d3e",
   "metadata": {},
   "outputs": [],
   "source": [
    "# Turn main dictionary into a dataframe\n"
   ]
  },
  {
   "cell_type": "code",
   "execution_count": 3,
   "id": "f8a8ad49",
   "metadata": {},
   "outputs": [],
   "source": [
    "# Test the data on 20 random zip codes for quality assurance --\n",
    "# Use a random shuffler to pick 20 random zip codes\n",
    "\n",
    "# Then map the zip code and its corresponding MSA\n",
    "\n",
    "# If every zip code is within its MSA boundary, it passes the test.\n"
   ]
  },
  {
   "cell_type": "code",
   "execution_count": null,
   "id": "d551d2f6",
   "metadata": {},
   "outputs": [],
   "source": [
    "# Run another test by simply mapping all zip codes\n",
    "# within my 7 target cities\n",
    "# Visually determine if it passes the test\n"
   ]
  }
 ],
 "metadata": {
  "kernelspec": {
   "display_name": "housing_supply_and_demand",
   "language": "python",
   "name": "housing_supply_and_demand"
  },
  "language_info": {
   "codemirror_mode": {
    "name": "ipython",
    "version": 3
   },
   "file_extension": ".py",
   "mimetype": "text/x-python",
   "name": "python",
   "nbconvert_exporter": "python",
   "pygments_lexer": "ipython3",
   "version": "3.9.3"
  }
 },
 "nbformat": 4,
 "nbformat_minor": 5
}
